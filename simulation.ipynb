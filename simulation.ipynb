{
 "cells": [
  {
   "cell_type": "code",
   "execution_count": 1,
   "metadata": {},
   "outputs": [],
   "source": [
    "import yfinance as yf\n",
    "\n",
    "#-----------------------------------------\n",
    "class trade:\n",
    "    def __init__(self, name, quantity):\n",
    "        data_temp_1 = data_raw = yf.download(tickers=name,period = \"10d\",interval = \"30m\")\n",
    "        x = data_temp_1.tail(1)\n",
    "        price = int(x[\"Close\"])\n",
    "        self.name = name\n",
    "        self.price = price\n",
    "        self.quantity = quantity\n",
    "\n",
    "    def __str__(self):\n",
    "        return \"{} {} {}\".format(self.name, self.price, self.quantity)\n",
    "\n",
    "    def sell(self):\n",
    "        data_temp_1 = data_raw = yf.download(tickers=self.name,period = \"10d\",interval = \"30m\")\n",
    "        \n",
    "        x = data_temp_1.tail(1)\n",
    "        price_traded = int(x[\"Close\"])       \n",
    "        data = (price_traded - self.price)*self.quantity\n",
    "        if(price_traded> self.price):\n",
    "            print(\"profit of \" + str(data))\n",
    "        elif(price_traded < self.price):\n",
    "            print(\"loss of \" + str(data))\n",
    "        else:\n",
    "            print(\"trade executed at the same price\")\n",
    "        data_1 = open(\"simulation.txt\", \"a\")\n",
    "        data_1.write(str(self.name)+\" \"+ str(data)+\"\\n\")\n",
    "\n",
    "\n",
    "        return data\n",
    "\n"
   ]
  },
  {
   "cell_type": "markdown",
   "metadata": {},
   "source": [
    "DATA-  6\n",
    "STOCK BOUGHT = SUNPHARMA , 15"
   ]
  },
  {
   "cell_type": "code",
   "execution_count": 19,
   "metadata": {},
   "outputs": [
    {
     "name": "stdout",
     "output_type": "stream",
     "text": [
      "[*********************100%***********************]  1 of 1 completed\n",
      "LTI.NS 4621 10\n"
     ]
    }
   ],
   "source": [
    "trade_1 = trade(\"LTI.NS\", 10)  #COMPANY_NAME_1\n",
    "print(trade_1)"
   ]
  },
  {
   "cell_type": "code",
   "execution_count": 20,
   "metadata": {},
   "outputs": [
    {
     "name": "stdout",
     "output_type": "stream",
     "text": [
      "[*********************100%***********************]  1 of 1 completed\n",
      "profit of 250\n"
     ]
    },
    {
     "data": {
      "text/plain": [
       "250"
      ]
     },
     "execution_count": 20,
     "metadata": {},
     "output_type": "execute_result"
    }
   ],
   "source": [
    "#trade_1\n",
    "trade_1.sell()"
   ]
  },
  {
   "cell_type": "code",
   "execution_count": 5,
   "metadata": {},
   "outputs": [
    {
     "name": "stdout",
     "output_type": "stream",
     "text": [
      "[*********************100%***********************]  1 of 1 completed\n",
      "ITC.NS 260 1\n"
     ]
    }
   ],
   "source": [
    "trade_2 = trade(\"ITC.NS\", 1)  # COMPANY_NAME_2\n",
    "print(trade_2)"
   ]
  },
  {
   "cell_type": "code",
   "execution_count": 6,
   "metadata": {},
   "outputs": [
    {
     "name": "stdout",
     "output_type": "stream",
     "text": [
      "[*********************100%***********************]  1 of 1 completed\n",
      "trade executed at the same price\n"
     ]
    },
    {
     "data": {
      "text/plain": [
       "0"
      ]
     },
     "execution_count": 6,
     "metadata": {},
     "output_type": "execute_result"
    }
   ],
   "source": [
    "#trade_2\n",
    "trade_2.sell()"
   ]
  },
  {
   "cell_type": "code",
   "execution_count": 10,
   "metadata": {},
   "outputs": [
    {
     "name": "stdout",
     "output_type": "stream",
     "text": [
      "[*********************100%***********************]  1 of 1 completed\n"
     ]
    }
   ],
   "source": [
    "trade_3 = trade(\"SUNPHARMA.NS\", 15)  #COMPANY_NAME_3"
   ]
  },
  {
   "cell_type": "code",
   "execution_count": 13,
   "metadata": {},
   "outputs": [
    {
     "name": "stdout",
     "output_type": "stream",
     "text": [
      "[*********************100%***********************]  1 of 1 completed\n",
      "loss of -45\n"
     ]
    },
    {
     "data": {
      "text/plain": [
       "-45"
      ]
     },
     "execution_count": 13,
     "metadata": {},
     "output_type": "execute_result"
    }
   ],
   "source": [
    "# trade_3\n",
    "trade_3.sell()"
   ]
  },
  {
   "cell_type": "code",
   "execution_count": 14,
   "metadata": {},
   "outputs": [
    {
     "name": "stdout",
     "output_type": "stream",
     "text": [
      "SUNPHARMA.NS 874 15\n"
     ]
    }
   ],
   "source": [
    "print(trade_3)"
   ]
  },
  {
   "cell_type": "code",
   "execution_count": null,
   "metadata": {},
   "outputs": [
    {
     "name": "stdout",
     "output_type": "stream",
     "text": [
      "[*********************100%***********************]  1 of 1 completed\n",
      "loss of -170\n"
     ]
    },
    {
     "data": {
      "text/plain": [
       "-170"
      ]
     },
     "execution_count": 13,
     "metadata": {},
     "output_type": "execute_result"
    }
   ],
   "source": [
    "trade_1.sell()"
   ]
  }
 ],
 "metadata": {
  "kernelspec": {
   "display_name": "Python 3 (ipykernel)",
   "language": "python",
   "name": "python3"
  },
  "orig_nbformat": 4
 },
 "nbformat": 4,
 "nbformat_minor": 2
}
